{
 "cells": [
  {
   "cell_type": "code",
   "execution_count": 106,
   "id": "0e20a8f4",
   "metadata": {},
   "outputs": [],
   "source": [
    "#!pip install great_expectations\n",
    "import json\n",
    "import great_expectations as ge\n",
    "from ruamel import yaml\n",
    "from great_expectations.core.batch import BatchRequest, RuntimeBatchRequest\n",
    "\n",
    "import pandas as pd\n",
    "from pandas_profiling import ProfileReport"
   ]
  },
  {
   "cell_type": "code",
   "execution_count": 107,
   "id": "46620f5c",
   "metadata": {},
   "outputs": [],
   "source": [
    "context = ge.get_context()\n"
   ]
  },
  {
   "cell_type": "code",
   "execution_count": 108,
   "id": "0c1a0fc0",
   "metadata": {},
   "outputs": [],
   "source": [
    "datasource_yaml = f\"\"\"\n",
    "name: taxi_datasource\n",
    "class_name: Datasource\n",
    "module_name: great_expectations.datasource\n",
    "execution_engine:\n",
    "  module_name: great_expectations.execution_engine\n",
    "  class_name: PandasExecutionEngine\n",
    "data_connectors:\n",
    "    default_runtime_data_connector_name:\n",
    "        class_name: RuntimeDataConnector\n",
    "        batch_identifiers:\n",
    "            - default_identifier_name\n",
    "    default_inferred_data_connector_name:\n",
    "        class_name: InferredAssetFilesystemDataConnector\n",
    "        base_directory: C:\\\\Users\\\\scarl\\\\Downloads\\\\Data\\\\Regression\\\\Data\n",
    "        default_regex:\n",
    "          group_names:\n",
    "            - data_asset_name\n",
    "          pattern: (.*)\n",
    "\"\"\""
   ]
  },
  {
   "cell_type": "code",
   "execution_count": 109,
   "id": "6e246c60",
   "metadata": {},
   "outputs": [
    {
     "name": "stdout",
     "output_type": "stream",
     "text": [
      "Attempting to instantiate class from config...\n",
      "\tInstantiating as a Datasource, since class_name is Datasource\n",
      "\tSuccessfully instantiated Datasource\n",
      "\n",
      "\n",
      "ExecutionEngine class name: PandasExecutionEngine\n",
      "Data Connectors:\n",
      "\tdefault_inferred_data_connector_name : InferredAssetFilesystemDataConnector\n",
      "\n",
      "\tAvailable data_asset_names (1 of 1):\n",
      "\t\tRegression.csv (1 of 1): ['Regression.csv']\n",
      "\n",
      "\tUnmatched data_references (0 of 0):[]\n",
      "\n",
      "\tdefault_runtime_data_connector_name:RuntimeDataConnector\n",
      "\n",
      "\tAvailable data_asset_names (0 of 0):\n",
      "\t\tNote : RuntimeDataConnector will not have data_asset_names until they are passed in through RuntimeBatchRequest\n",
      "\n",
      "\tUnmatched data_references (0 of 0): []\n",
      "\n"
     ]
    },
    {
     "data": {
      "text/plain": [
       "<great_expectations.datasource.new_datasource.Datasource at 0x1cabeb49340>"
      ]
     },
     "execution_count": 109,
     "metadata": {},
     "output_type": "execute_result"
    }
   ],
   "source": [
    "context.test_yaml_config(datasource_yaml)\n"
   ]
  },
  {
   "cell_type": "code",
   "execution_count": 110,
   "id": "c74bcba2",
   "metadata": {},
   "outputs": [
    {
     "name": "stdout",
     "output_type": "stream",
     "text": [
      "Attempting to instantiate class from config...\n",
      "\tInstantiating as a Datasource, since class_name is Datasource\n",
      "\tSuccessfully instantiated Datasource\n",
      "\n",
      "\n",
      "ExecutionEngine class name: PandasExecutionEngine\n",
      "Data Connectors:\n",
      "\tdefault_inferred_data_connector_name : InferredAssetFilesystemDataConnector\n",
      "\n",
      "\tAvailable data_asset_names (1 of 1):\n",
      "\t\tRegression.csv (1 of 1): ['Regression.csv']\n",
      "\n",
      "\tUnmatched data_references (0 of 0):[]\n",
      "\n",
      "\tdefault_runtime_data_connector_name:RuntimeDataConnector\n",
      "\n",
      "\tAvailable data_asset_names (0 of 0):\n",
      "\t\tNote : RuntimeDataConnector will not have data_asset_names until they are passed in through RuntimeBatchRequest\n",
      "\n",
      "\tUnmatched data_references (0 of 0): []\n",
      "\n"
     ]
    },
    {
     "data": {
      "text/plain": [
       "<great_expectations.datasource.new_datasource.Datasource at 0x1cabebb2c70>"
      ]
     },
     "execution_count": 110,
     "metadata": {},
     "output_type": "execute_result"
    }
   ],
   "source": [
    "context.test_yaml_config(datasource_yaml)\n"
   ]
  },
  {
   "cell_type": "code",
   "execution_count": 111,
   "id": "fc75a21d",
   "metadata": {},
   "outputs": [
    {
     "name": "stderr",
     "output_type": "stream",
     "text": [
      "C:\\Users\\scarl\\AppData\\Local\\Temp/ipykernel_24832/3765397168.py:1: UnsafeLoaderWarning: \n",
      "The default 'Loader' for 'load(stream)' without further arguments can be unsafe.\n",
      "Use 'load(stream, Loader=ruamel.yaml.Loader)' explicitly if that is OK.\n",
      "Alternatively include the following in your code:\n",
      "\n",
      "  import warnings\n",
      "  warnings.simplefilter('ignore', ruamel.yaml.error.UnsafeLoaderWarning)\n",
      "\n",
      "In most other cases you should consider using 'safe_load(stream)'\n",
      "  context.add_datasource(**yaml.load(datasource_yaml))\n"
     ]
    },
    {
     "data": {
      "text/plain": [
       "<great_expectations.datasource.new_datasource.Datasource at 0x1cabec6a3a0>"
      ]
     },
     "execution_count": 111,
     "metadata": {},
     "output_type": "execute_result"
    }
   ],
   "source": [
    "context.add_datasource(**yaml.load(datasource_yaml))\n",
    "#context.add_datasource(**datasource_config)\n"
   ]
  },
  {
   "cell_type": "code",
   "execution_count": 112,
   "id": "bfc86f8d",
   "metadata": {},
   "outputs": [],
   "source": [
    "batch_request = RuntimeBatchRequest(\n",
    "    datasource_name=\"taxi_datasource\",\n",
    "    data_connector_name=\"default_runtime_data_connector_name\",\n",
    "    data_asset_name=\"ras\",  # This can be anything that identifies this data_asset for you\n",
    "    runtime_parameters={\"path\": \"<PATH_TO_YOUR_DATA_HERE>\"},  # Add your path here.\n",
    "    batch_identifiers={\"default_identifier_name\": \"default_identifier\"},\n",
    ")\n",
    "\n",
    "# Please note this override is only to provide good UX for docs and tests.\n",
    "# In normal usage you'd set your path directly in the BatchRequest above.\n",
    "batch_request.runtime_parameters[\"path\"] = \"C:\\\\Users\\\\scarl\\\\Downloads\\\\Data\\\\Regression\\\\Data\\\\Regression.csv\"\n"
   ]
  },
  {
   "cell_type": "code",
   "execution_count": 113,
   "id": "028898a5",
   "metadata": {},
   "outputs": [
    {
     "name": "stdout",
     "output_type": "stream",
     "text": [
      "         Date Month   Week  Quantity  Year Product  RatePerKg  Amount  Profit\n",
      "0  2018-01-15   Jan  Week1    1000.0  2018    Pork       4.85  4850.0  1940.0\n",
      "1  2018-01-15   Jan  Week2     650.0  2018    Pork       4.45  2892.5  1157.0\n",
      "2  2018-01-31   Jan  Week3     100.0  2018    Pork       4.35   435.0   174.0\n",
      "3  2018-01-31   Jan  Week4     120.0  2018    Pork       4.45   534.0   213.6\n",
      "4  2018-02-15   Feb  Week1     200.0  2018    Pork       4.75   950.0   380.0\n"
     ]
    }
   ],
   "source": [
    "context.create_expectation_suite(\n",
    "    expectation_suite_name=\"test_suite\", overwrite_existing=True\n",
    ")\n",
    "validator = context.get_validator(\n",
    "    batch_request=batch_request, expectation_suite_name=\"test_suite\"\n",
    ")\n",
    "print(validator.head())"
   ]
  },
  {
   "cell_type": "code",
   "execution_count": 114,
   "id": "8e170501",
   "metadata": {},
   "outputs": [],
   "source": [
    "assert isinstance(validator, ge.validator.validator.Validator)\n"
   ]
  },
  {
   "cell_type": "code",
   "execution_count": 115,
   "id": "ee70566c",
   "metadata": {},
   "outputs": [],
   "source": [
    "# Here is a BatchRequest naming a data_asset\n",
    "batch_request = BatchRequest(\n",
    "    datasource_name=\"taxi_datasource\",\n",
    "    data_connector_name=\"default_inferred_data_connector_name\",\n",
    "    data_asset_name=\"ras\",\n",
    ")\n"
   ]
  },
  {
   "cell_type": "code",
   "execution_count": 116,
   "id": "ba709862",
   "metadata": {},
   "outputs": [],
   "source": [
    "# Please note this override is only to provide good UX for docs and tests.\n",
    "# In normal usage you'd set your data asset name directly in the BatchRequest above.\n",
    "batch_request.data_asset_name = \"Regression.csv\"\n"
   ]
  },
  {
   "cell_type": "code",
   "execution_count": 117,
   "id": "ded60b6a",
   "metadata": {},
   "outputs": [
    {
     "data": {
      "text/plain": [
       "{\n",
       "  \"expectation_suite_name\": \"test_suite\",\n",
       "  \"expectations\": [],\n",
       "  \"ge_cloud_id\": null,\n",
       "  \"meta\": {\n",
       "    \"great_expectations_version\": \"0.13.45\"\n",
       "  },\n",
       "  \"data_asset_type\": null\n",
       "}"
      ]
     },
     "execution_count": 117,
     "metadata": {},
     "output_type": "execute_result"
    }
   ],
   "source": [
    "context.create_expectation_suite(\n",
    "    expectation_suite_name=\"test_suite\", overwrite_existing=True\n",
    ")"
   ]
  },
  {
   "cell_type": "code",
   "execution_count": 118,
   "id": "212041af",
   "metadata": {},
   "outputs": [
    {
     "name": "stdout",
     "output_type": "stream",
     "text": [
      "         Date Month   Week  Quantity  Year Product  RatePerKg  Amount  Profit\n",
      "0  2018-01-15   Jan  Week1    1000.0  2018    Pork       4.85  4850.0  1940.0\n",
      "1  2018-01-15   Jan  Week2     650.0  2018    Pork       4.45  2892.5  1157.0\n",
      "2  2018-01-31   Jan  Week3     100.0  2018    Pork       4.35   435.0   174.0\n",
      "3  2018-01-31   Jan  Week4     120.0  2018    Pork       4.45   534.0   213.6\n",
      "4  2018-02-15   Feb  Week1     200.0  2018    Pork       4.75   950.0   380.0\n"
     ]
    }
   ],
   "source": [
    "validator = context.get_validator(\n",
    "    batch_request=batch_request, expectation_suite_name=\"test_suite\"\n",
    ")\n",
    "print(validator.head())"
   ]
  },
  {
   "cell_type": "code",
   "execution_count": 132,
   "id": "1c707d1e",
   "metadata": {},
   "outputs": [
    {
     "data": {
      "application/vnd.jupyter.widget-view+json": {
       "model_id": "35470248a2164608af1335dc18d69783",
       "version_major": 2,
       "version_minor": 0
      },
      "text/plain": [
       "Calculating Metrics:   0%|          | 0/8 [00:00<?, ?it/s]"
      ]
     },
     "metadata": {},
     "output_type": "display_data"
    },
    {
     "name": "stderr",
     "output_type": "stream",
     "text": [
      "C:\\Users\\scarl\\anaconda3\\lib\\site-packages\\great_expectations\\expectations\\metrics\\column_map_metrics\\column_values_between.py:47: DeprecationWarning: The parameter \"parse_strings_as_datetimes\" is no longer supported and will be deprecated in a future release.  Please update code accordingly.\n",
      "\n",
      "  warnings.warn(\n"
     ]
    },
    {
     "data": {
      "text/plain": [
       "{\n",
       "  \"meta\": {},\n",
       "  \"result\": {\n",
       "    \"element_count\": 1152,\n",
       "    \"unexpected_count\": 0,\n",
       "    \"unexpected_percent\": 0.0,\n",
       "    \"partial_unexpected_list\": [],\n",
       "    \"missing_count\": 0,\n",
       "    \"missing_percent\": 0.0,\n",
       "    \"unexpected_percent_total\": 0.0,\n",
       "    \"unexpected_percent_nonmissing\": 0.0\n",
       "  },\n",
       "  \"success\": true,\n",
       "  \"exception_info\": {\n",
       "    \"raised_exception\": false,\n",
       "    \"exception_traceback\": null,\n",
       "    \"exception_message\": null\n",
       "  }\n",
       "}"
      ]
     },
     "execution_count": 132,
     "metadata": {},
     "output_type": "execute_result"
    }
   ],
   "source": [
    "validator.expect_column_values_to_be_between(\n",
    "    column=\"Date\",\n",
    "    min_value=\"2018-01-14\",\n",
    "    max_value=\"2022-12-31\",\n",
    "    mostly=0.95,\n",
    "    parse_strings_as_datetimes=True,\n",
    ")"
   ]
  },
  {
   "cell_type": "code",
   "execution_count": 136,
   "id": "f3c44e7a",
   "metadata": {},
   "outputs": [
    {
     "data": {
      "application/vnd.jupyter.widget-view+json": {
       "model_id": "49ab23d8a5934c2db3f2a160194b5243",
       "version_major": 2,
       "version_minor": 0
      },
      "text/plain": [
       "Calculating Metrics:   0%|          | 0/9 [00:00<?, ?it/s]"
      ]
     },
     "metadata": {},
     "output_type": "display_data"
    },
    {
     "data": {
      "text/plain": [
       "{\n",
       "  \"meta\": {},\n",
       "  \"result\": {\n",
       "    \"element_count\": 1152,\n",
       "    \"unexpected_count\": 0,\n",
       "    \"unexpected_percent\": 0.0,\n",
       "    \"partial_unexpected_list\": [],\n",
       "    \"missing_count\": 0,\n",
       "    \"missing_percent\": 0.0,\n",
       "    \"unexpected_percent_total\": 0.0,\n",
       "    \"unexpected_percent_nonmissing\": 0.0\n",
       "  },\n",
       "  \"success\": true,\n",
       "  \"exception_info\": {\n",
       "    \"raised_exception\": false,\n",
       "    \"exception_traceback\": null,\n",
       "    \"exception_message\": null\n",
       "  }\n",
       "}"
      ]
     },
     "execution_count": 136,
     "metadata": {},
     "output_type": "execute_result"
    }
   ],
   "source": [
    "validator.expect_column_value_lengths_to_be_between(\n",
    "    column=\"Month\", max_value=9, min_value=3\n",
    ")"
   ]
  },
  {
   "cell_type": "code",
   "execution_count": 137,
   "id": "5660987e",
   "metadata": {},
   "outputs": [
    {
     "data": {
      "application/vnd.jupyter.widget-view+json": {
       "model_id": "e237c7c12b0e4675b131d7083aa810bb",
       "version_major": 2,
       "version_minor": 0
      },
      "text/plain": [
       "Calculating Metrics:   0%|          | 0/3 [00:00<?, ?it/s]"
      ]
     },
     "metadata": {},
     "output_type": "display_data"
    },
    {
     "data": {
      "text/plain": [
       "{\n",
       "  \"meta\": {},\n",
       "  \"result\": {\n",
       "    \"observed_value\": 1947.6152765700685\n",
       "  },\n",
       "  \"success\": true,\n",
       "  \"exception_info\": {\n",
       "    \"raised_exception\": false,\n",
       "    \"exception_traceback\": null,\n",
       "    \"exception_message\": null\n",
       "  }\n",
       "}"
      ]
     },
     "execution_count": 137,
     "metadata": {},
     "output_type": "execute_result"
    }
   ],
   "source": [
    "validator.expect_column_mean_to_be_between(\n",
    "    column=\"Profit\",\n",
    "    max_value = 2000,\n",
    "    min_value = 700.36\n",
    ")"
   ]
  },
  {
   "cell_type": "code",
   "execution_count": 138,
   "id": "25ffd660",
   "metadata": {},
   "outputs": [
    {
     "data": {
      "application/vnd.jupyter.widget-view+json": {
       "model_id": "af1b8e0b807040f88f9e1aac59f9bfda",
       "version_major": 2,
       "version_minor": 0
      },
      "text/plain": [
       "Calculating Metrics:   0%|          | 0/8 [00:00<?, ?it/s]"
      ]
     },
     "metadata": {},
     "output_type": "display_data"
    },
    {
     "data": {
      "text/plain": [
       "{\n",
       "  \"meta\": {},\n",
       "  \"result\": {\n",
       "    \"element_count\": 1152,\n",
       "    \"unexpected_count\": 0,\n",
       "    \"unexpected_percent\": 0.0,\n",
       "    \"partial_unexpected_list\": [],\n",
       "    \"missing_count\": 0,\n",
       "    \"missing_percent\": 0.0,\n",
       "    \"unexpected_percent_total\": 0.0,\n",
       "    \"unexpected_percent_nonmissing\": 0.0\n",
       "  },\n",
       "  \"success\": true,\n",
       "  \"exception_info\": {\n",
       "    \"raised_exception\": false,\n",
       "    \"exception_traceback\": null,\n",
       "    \"exception_message\": null\n",
       "  }\n",
       "}"
      ]
     },
     "execution_count": 138,
     "metadata": {},
     "output_type": "execute_result"
    }
   ],
   "source": [
    "validator.expect_column_values_to_be_in_set(\n",
    "    column=\"Product\",\n",
    "    value_set =  [\n",
    "          \"Pork\",\n",
    "          \"Turkey\",\n",
    "          \"Chicken\",\n",
    "          \"Mutton\",\n",
    "          \"Tuna\",\n",
    "          \"Caviar\"\n",
    "        ]\n",
    "  \n",
    ")\n"
   ]
  },
  {
   "cell_type": "code",
   "execution_count": 145,
   "id": "93aef8f6",
   "metadata": {},
   "outputs": [],
   "source": [
    "#create custom expectations\n"
   ]
  },
  {
   "cell_type": "code",
   "execution_count": 150,
   "id": "52e56b79",
   "metadata": {},
   "outputs": [
    {
     "name": "stderr",
     "output_type": "stream",
     "text": [
      "metric column.aggregate.custom.max is being registered with different metric_provider; overwriting metric_provider\n",
      "metric column.aggregate.custom.max.aggregate_fn is being registered with different metric_provider; overwriting metric_provider\n",
      "metric column.aggregate.custom.max.aggregate_fn is being registered with different metric_provider; overwriting metric_provider\n"
     ]
    }
   ],
   "source": [
    "from great_expectations.execution_engine import (\n",
    "   PandasExecutionEngine,\n",
    "   SparkDFExecutionEngine,\n",
    "   SqlAlchemyExecutionEngine,\n",
    ")\n",
    "from great_expectations.expectations.metrics import (\n",
    "   ColumnAggregateMetricProvider,\n",
    "   column_aggregate_value, column_aggregate_partial\n",
    ")\n",
    "from great_expectations.expectations.metrics.import_manager import F, sa\n",
    "\n",
    "class ColumnCustomMax(ColumnAggregateMetricProvider):\n",
    "    \"\"\"MetricProvider Class for Custom Aggregate Max MetricProvider\"\"\"\n",
    "\n",
    "    metric_name = \"column.aggregate.custom.max\"\n",
    "\n",
    "    @column_aggregate_value(engine=PandasExecutionEngine)\n",
    "    def _pandas(cls, column, **kwargs):\n",
    "        \"\"\"Pandas Max Implementation\"\"\"\n",
    "        return column.max()\n",
    "\n",
    "    @column_aggregate_partial(engine=SqlAlchemyExecutionEngine)\n",
    "    def _sqlalchemy(cls, column, **kwargs):\n",
    "        \"\"\"SqlAlchemy Max Implementation\"\"\"\n",
    "        return sa.func.max(column)\n",
    "\n",
    "    @column_aggregate_partial(engine=SparkDFExecutionEngine)\n",
    "    def _spark(cls, column, _table, _column_name, **kwargs):\n",
    "        \"\"\"Spark Max Implementation\"\"\"\n",
    "        types = dict(_table.dtypes)\n",
    "        return F.maxcolumn()"
   ]
  },
  {
   "cell_type": "code",
   "execution_count": null,
   "id": "437a70f7",
   "metadata": {},
   "outputs": [],
   "source": []
  },
  {
   "cell_type": "code",
   "execution_count": null,
   "id": "6bbfd673",
   "metadata": {},
   "outputs": [],
   "source": []
  },
  {
   "cell_type": "code",
   "execution_count": null,
   "id": "510d006b",
   "metadata": {},
   "outputs": [],
   "source": []
  }
 ],
 "metadata": {
  "kernelspec": {
   "display_name": "Python 3 (ipykernel)",
   "language": "python",
   "name": "python3"
  },
  "language_info": {
   "codemirror_mode": {
    "name": "ipython",
    "version": 3
   },
   "file_extension": ".py",
   "mimetype": "text/x-python",
   "name": "python",
   "nbconvert_exporter": "python",
   "pygments_lexer": "ipython3",
   "version": "3.9.7"
  }
 },
 "nbformat": 4,
 "nbformat_minor": 5
}
