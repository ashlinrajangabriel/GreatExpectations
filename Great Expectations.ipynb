{
 "cells": [
  {
   "cell_type": "code",
   "execution_count": 75,
   "id": "fe10bf66-1811-4ce1-89d2-c2d943af167e",
   "metadata": {},
   "outputs": [],
   "source": [
    "#!pip install great_expectations\n",
    "import json\n",
    "import great_expectations as ge\n",
    "import great_expectations.jupyter_ux\n",
    "from great_expectations.datasource.types import BatchKwargs\n",
    "from datetime import datetime"
   ]
  },
  {
   "cell_type": "code",
   "execution_count": 76,
   "id": "011ced52-95b4-492a-a90c-876554c2e82a",
   "metadata": {},
   "outputs": [],
   "source": [
    "from ruamel import yaml\n",
    "\n",
    "import great_expectations as ge\n",
    "from great_expectations.core.batch import BatchRequest, RuntimeBatchRequest"
   ]
  },
  {
   "cell_type": "code",
   "execution_count": 77,
   "id": "2ccfc4ee-d3b0-4550-a5a6-5e4933a150e0",
   "metadata": {},
   "outputs": [],
   "source": [
    "context = ge.get_context()"
   ]
  },
  {
   "cell_type": "code",
   "execution_count": 78,
   "id": "5a795c7b",
   "metadata": {},
   "outputs": [
    {
     "data": {
      "text/plain": [
       "<great_expectations.data_context.data_context.DataContext at 0x281aff437c0>"
      ]
     },
     "execution_count": 78,
     "metadata": {},
     "output_type": "execute_result"
    }
   ],
   "source": [
    "context"
   ]
  },
  {
   "cell_type": "code",
   "execution_count": 79,
   "id": "d7df2575-75f9-4c9f-bc0c-010145f706bf",
   "metadata": {},
   "outputs": [],
   "source": [
    "datasource_config = {\n",
    "    \"name\": \"my_sqlite_datasource\",\n",
    "    \"class_name\": \"Datasource\",\n",
    "    \"execution_engine\": {\n",
    "        \"class_name\": \"SqlAlchemyExecutionEngine\",\n",
    "        \"connection_string\": \"sqlite:///C:\\\\Users\\\\scarl\\\\knime-workspace\\\\DataBaseContent\\\\Output\\\\SQLITE\\\\shows.db\",\n",
    "    },\n",
    "    \"data_connectors\": {\n",
    "        \"default_runtime_data_connector_name\": {\n",
    "            \"class_name\": \"RuntimeDataConnector\",\n",
    "            \"batch_identifiers\": [\"default_identifier_name\"],\n",
    "        },\n",
    "        \"default_inferred_data_connector_name\": {\n",
    "            \"class_name\": \"InferredAssetSqlDataConnector\",\n",
    "            \"name\": \"whole_table\",\n",
    "        },\n",
    "    },\n",
    "}\n"
   ]
  },
  {
   "cell_type": "code",
   "execution_count": 80,
   "id": "49050e69-86c6-4c47-87fc-88a9b5c3636d",
   "metadata": {},
   "outputs": [
    {
     "data": {
      "text/plain": [
       "<great_expectations.datasource.new_datasource.Datasource at 0x281aff434f0>"
      ]
     },
     "execution_count": 80,
     "metadata": {},
     "output_type": "execute_result"
    }
   ],
   "source": [
    "context.add_datasource(**datasource_config)\n"
   ]
  },
  {
   "cell_type": "code",
   "execution_count": 81,
   "id": "19a2c528-d540-48e4-b55e-e4c42232ac4c",
   "metadata": {},
   "outputs": [],
   "source": [
    "batch_request = RuntimeBatchRequest(\n",
    "    datasource_name=\"my_sqlite_datasource\",\n",
    "    data_connector_name=\"default_runtime_data_connector_name\",\n",
    "    data_asset_name=\"default_name\",  # this can be anything that identifies this data\n",
    "    runtime_parameters={\"query\": \"SELECT * from T_SALES  LIMIT 10\"},\n",
    "    batch_identifiers={\"default_identifier_name\": \"default_identifier\"},\n",
    "\n",
    "\n",
    "    )\n",
    "    # this is the name of the table you would like to use a 'temp_table'\n",
    "\n"
   ]
  },
  {
   "cell_type": "code",
   "execution_count": 82,
   "id": "a1da799c",
   "metadata": {},
   "outputs": [
    {
     "data": {
      "text/plain": [
       "{\n",
       "  \"expectations\": [],\n",
       "  \"data_asset_type\": null,\n",
       "  \"expectation_suite_name\": \"test_suite\",\n",
       "  \"ge_cloud_id\": null,\n",
       "  \"meta\": {\n",
       "    \"great_expectations_version\": \"0.13.45\"\n",
       "  }\n",
       "}"
      ]
     },
     "execution_count": 82,
     "metadata": {},
     "output_type": "execute_result"
    }
   ],
   "source": [
    "context.create_expectation_suite(\n",
    "    expectation_suite_name=\"test_suite\", overwrite_existing=True\n",
    ")"
   ]
  },
  {
   "cell_type": "code",
   "execution_count": 83,
   "id": "e3c8e57a",
   "metadata": {},
   "outputs": [],
   "source": [
    "validator = context.get_validator(\n",
    "    batch_request=batch_request, expectation_suite_name=\"test_suite\" )"
   ]
  },
  {
   "cell_type": "code",
   "execution_count": 84,
   "id": "f2f8a437",
   "metadata": {},
   "outputs": [
    {
     "data": {
      "text/plain": [
       "<great_expectations.validator.validator.Validator at 0x281aff43880>"
      ]
     },
     "execution_count": 84,
     "metadata": {},
     "output_type": "execute_result"
    }
   ],
   "source": [
    "validator"
   ]
  },
  {
   "cell_type": "code",
   "execution_count": 94,
   "id": "b1906888",
   "metadata": {},
   "outputs": [
    {
     "data": {
      "application/vnd.jupyter.widget-view+json": {
       "model_id": "d272f1c5175e4fb8ace0c630b4cf1b37",
       "version_major": 2,
       "version_minor": 0
      },
      "text/plain": [
       "Calculating Metrics:   0%|          | 0/11 [00:00<?, ?it/s]"
      ]
     },
     "metadata": {},
     "output_type": "display_data"
    },
    {
     "data": {
      "text/plain": [
       "{\n",
       "  \"success\": false,\n",
       "  \"exception_info\": {\n",
       "    \"raised_exception\": false,\n",
       "    \"exception_traceback\": null,\n",
       "    \"exception_message\": null\n",
       "  },\n",
       "  \"meta\": {},\n",
       "  \"result\": {\n",
       "    \"element_count\": 10,\n",
       "    \"unexpected_count\": 10,\n",
       "    \"unexpected_percent\": 100.0,\n",
       "    \"partial_unexpected_list\": [\n",
       "      1515954600000,\n",
       "      1515954600000,\n",
       "      1517337000000,\n",
       "      1517337000000,\n",
       "      1518633000000,\n",
       "      1518633000000,\n",
       "      1519583400000,\n",
       "      1519583400000,\n",
       "      1521052200000,\n",
       "      1521052200000\n",
       "    ],\n",
       "    \"missing_count\": 0,\n",
       "    \"missing_percent\": 0.0,\n",
       "    \"unexpected_percent_total\": 100.0,\n",
       "    \"unexpected_percent_nonmissing\": 100.0\n",
       "  }\n",
       "}"
      ]
     },
     "execution_count": 94,
     "metadata": {},
     "output_type": "execute_result"
    }
   ],
   "source": [
    "validator.expect_column_values_to_be_between(\n",
    "    column=\"Date\",\n",
    "    min_value=\"2018-01-14\",\n",
    "    max_value=\"2022-12-31\",\n",
    "    mostly=0.95,\n",
    "    parse_strings_as_datetimes=True,\n",
    ")"
   ]
  },
  {
   "cell_type": "code",
   "execution_count": 96,
   "id": "566c5dbb",
   "metadata": {},
   "outputs": [
    {
     "data": {
      "application/vnd.jupyter.widget-view+json": {
       "model_id": "410fa99327164334a0d996f494110aaf",
       "version_major": 2,
       "version_minor": 0
      },
      "text/plain": [
       "Calculating Metrics:   0%|          | 0/12 [00:00<?, ?it/s]"
      ]
     },
     "metadata": {},
     "output_type": "display_data"
    },
    {
     "data": {
      "text/plain": [
       "{\n",
       "  \"success\": true,\n",
       "  \"exception_info\": {\n",
       "    \"raised_exception\": false,\n",
       "    \"exception_traceback\": null,\n",
       "    \"exception_message\": null\n",
       "  },\n",
       "  \"meta\": {},\n",
       "  \"result\": {\n",
       "    \"element_count\": 10,\n",
       "    \"unexpected_count\": 0,\n",
       "    \"unexpected_percent\": 0.0,\n",
       "    \"partial_unexpected_list\": [],\n",
       "    \"missing_count\": 0,\n",
       "    \"missing_percent\": 0.0,\n",
       "    \"unexpected_percent_total\": 0.0,\n",
       "    \"unexpected_percent_nonmissing\": 0.0\n",
       "  }\n",
       "}"
      ]
     },
     "execution_count": 96,
     "metadata": {},
     "output_type": "execute_result"
    }
   ],
   "source": [
    "validator.expect_column_value_lengths_to_be_between(\n",
    "    column=\"Month\", max_value=3, min_value=2\n",
    ")"
   ]
  },
  {
   "cell_type": "code",
   "execution_count": 101,
   "id": "eb4323b2",
   "metadata": {},
   "outputs": [
    {
     "data": {
      "text/plain": [
       "{\n",
       "  \"success\": true,\n",
       "  \"exception_info\": {\n",
       "    \"raised_exception\": false,\n",
       "    \"exception_traceback\": null,\n",
       "    \"exception_message\": null\n",
       "  },\n",
       "  \"meta\": {},\n",
       "  \"result\": {}\n",
       "}"
      ]
     },
     "execution_count": 101,
     "metadata": {},
     "output_type": "execute_result"
    }
   ],
   "source": [
    "validator.expect_column_to_exist(\n",
    "    column=\"Month\"\n",
    ")"
   ]
  },
  {
   "cell_type": "code",
   "execution_count": 108,
   "id": "17a1fdeb",
   "metadata": {},
   "outputs": [
    {
     "data": {
      "application/vnd.jupyter.widget-view+json": {
       "model_id": "a07babd38d70449f90fd106ae2b90c10",
       "version_major": 2,
       "version_minor": 0
      },
      "text/plain": [
       "Calculating Metrics:   0%|          | 0/4 [00:00<?, ?it/s]"
      ]
     },
     "metadata": {},
     "output_type": "display_data"
    },
    {
     "data": {
      "text/plain": [
       "{\n",
       "  \"success\": true,\n",
       "  \"exception_info\": {\n",
       "    \"raised_exception\": false,\n",
       "    \"exception_traceback\": null,\n",
       "    \"exception_message\": null\n",
       "  },\n",
       "  \"meta\": {},\n",
       "  \"result\": {\n",
       "    \"observed_value\": 715.36\n",
       "  }\n",
       "}"
      ]
     },
     "execution_count": 108,
     "metadata": {},
     "output_type": "execute_result"
    }
   ],
   "source": [
    "validator.expect_column_mean_to_be_between(\n",
    "    column=\"Profit\",\n",
    "    max_value = 2000,\n",
    "    min_value = 700.36\n",
    ")\n"
   ]
  },
  {
   "cell_type": "code",
   "execution_count": 109,
   "id": "a59b365a",
   "metadata": {},
   "outputs": [
    {
     "data": {
      "application/vnd.jupyter.widget-view+json": {
       "model_id": "90f4f791cfdf42baa0c456d07650ab00",
       "version_major": 2,
       "version_minor": 0
      },
      "text/plain": [
       "Calculating Metrics:   0%|          | 0/4 [00:00<?, ?it/s]"
      ]
     },
     "metadata": {},
     "output_type": "display_data"
    },
    {
     "data": {
      "text/plain": [
       "{\n",
       "  \"success\": true,\n",
       "  \"exception_info\": {\n",
       "    \"raised_exception\": false,\n",
       "    \"exception_traceback\": null,\n",
       "    \"exception_message\": null\n",
       "  },\n",
       "  \"meta\": {},\n",
       "  \"result\": {\n",
       "    \"observed_value\": 715.36\n",
       "  }\n",
       "}"
      ]
     },
     "execution_count": 109,
     "metadata": {},
     "output_type": "execute_result"
    }
   ],
   "source": [
    "validator.expect_column_mean_to_be_between(\n",
    "    column=\"Profit\",\n",
    "    max_value = 41000,\n",
    "    min_value = 15.36\n",
    ")\n"
   ]
  },
  {
   "cell_type": "code",
   "execution_count": 114,
   "id": "f70271aa",
   "metadata": {},
   "outputs": [
    {
     "data": {
      "application/vnd.jupyter.widget-view+json": {
       "model_id": "f95afed1aa3047968358c8ec2e2f63c4",
       "version_major": 2,
       "version_minor": 0
      },
      "text/plain": [
       "Calculating Metrics:   0%|          | 0/11 [00:00<?, ?it/s]"
      ]
     },
     "metadata": {},
     "output_type": "display_data"
    },
    {
     "data": {
      "text/plain": [
       "{\n",
       "  \"success\": true,\n",
       "  \"exception_info\": {\n",
       "    \"raised_exception\": false,\n",
       "    \"exception_traceback\": null,\n",
       "    \"exception_message\": null\n",
       "  },\n",
       "  \"meta\": {},\n",
       "  \"result\": {\n",
       "    \"element_count\": 10,\n",
       "    \"unexpected_count\": 0,\n",
       "    \"unexpected_percent\": 0.0,\n",
       "    \"partial_unexpected_list\": [],\n",
       "    \"missing_count\": 0,\n",
       "    \"missing_percent\": 0.0,\n",
       "    \"unexpected_percent_total\": 0.0,\n",
       "    \"unexpected_percent_nonmissing\": 0.0\n",
       "  }\n",
       "}"
      ]
     },
     "execution_count": 114,
     "metadata": {},
     "output_type": "execute_result"
    }
   ],
   "source": [
    "validator.expect_column_values_to_be_in_set(\n",
    "    column=\"Product\",\n",
    "    value_set =  [\n",
    "          \"Pork\",\n",
    "          \"Turkey\",\n",
    "          \"Chicken\",\n",
    "          \"Mutton\",\n",
    "          \"Tuna\",\n",
    "          \"Caviar\"\n",
    "        ]\n",
    "  \n",
    ")\n",
    "\n"
   ]
  },
  {
   "cell_type": "code",
   "execution_count": null,
   "id": "a1ebfd4e",
   "metadata": {},
   "outputs": [],
   "source": [
    "{\n",
    "  \"results\" : [\n",
    "    {\n",
    "      \"expectation_type\": \"expect_column_to_exist\",\n",
    "      \"success\": True,\n",
    "      \"kwargs\": {\n",
    "        \"column\": \"Unnamed: 0\"\n",
    "      }\n",
    "    },\n",
    "    ...\n",
    "    {\n",
    "      \"unexpected_list\": 30.397989417989415,\n",
    "      \"expectation_type\": \"expect_column_mean_to_be_between\",\n",
    "      \"success\": True,\n",
    "      \"kwargs\": {\n",
    "        \"column\": \"Age\",\n",
    "        \"max_value\": 40,\n",
    "        \"min_value\": 20\n",
    "      }\n",
    "    },\n",
    "    {\n",
    "      \"unexpected_list\": [],\n",
    "      \"expectation_type\": \"expect_column_values_to_be_between\",\n",
    "      \"success\": True,\n",
    "      \"kwargs\": {\n",
    "        \"column\": \"Age\",\n",
    "        \"max_value\": 80,\n",
    "        \"min_value\": 0\n",
    "      }\n",
    "    },\n",
    "    {\n",
    "      \"unexpected_list\": [\n",
    "        \"Downton (?Douton), Mr William James\",\n",
    "        \"Jacobsohn Mr Samuel\",\n",
    "        \"Seman Master Betros\"\n",
    "      ],\n",
    "      \"expectation_type\": \"expect_column_values_to_match_regex\",\n",
    "      \"success\": True,\n",
    "      \"kwargs\": {\n",
    "        \"regex\": \"[A-Z][a-z]+(?: \\\\([A-Z][a-z]+\\\\))?, \",\n",
    "        \"column\": \"Name\",\n",
    "        \"mostly\": 0.95\n",
    "      }\n",
    "    },\n",
    "    {\n",
    "      \"unexpected_list\": [\n",
    "        \"*\"\n",
    "      ],\n",
    "      \"expectation_type\": \"expect_column_values_to_be_in_set\",\n",
    "      \"success\": False,\n",
    "      \"kwargs\": {\n",
    "        \"column\": \"PClass\",\n",
    "        \"value_set\": [\n",
    "          \"1st\",\n",
    "          \"2nd\",\n",
    "          \"3rd\"\n",
    "        ]\n",
    "      }\n",
    "    }\n",
    "  ],\n",
    "  \"success\", False,\n",
    "  \"statistics\": {\n",
    "      \"evaluated_expectations\": 10,\n",
    "      \"successful_expectations\": 9,\n",
    "      \"unsuccessful_expectations\": 1,\n",
    "      \"success_percent\": 90.0,\n",
    "  }\n",
    "}"
   ]
  },
  {
   "cell_type": "code",
   "execution_count": null,
   "id": "e24d21d4",
   "metadata": {},
   "outputs": [],
   "source": []
  },
  {
   "cell_type": "code",
   "execution_count": null,
   "id": "00ddd823",
   "metadata": {},
   "outputs": [],
   "source": []
  },
  {
   "cell_type": "code",
   "execution_count": 100,
   "id": "325994bc",
   "metadata": {},
   "outputs": [],
   "source": [
    "#Create a checkpoint\n",
    "\n",
    "#great_expectations checkpoint new SalesChek.chk Sales\n"
   ]
  },
  {
   "cell_type": "code",
   "execution_count": null,
   "id": "22d03b80",
   "metadata": {},
   "outputs": [],
   "source": [
    "#great_expectations checkpoint run SalesChek.chk\n"
   ]
  },
  {
   "cell_type": "code",
   "execution_count": null,
   "id": "3d5c2937",
   "metadata": {},
   "outputs": [],
   "source": [
    "#firefox great_expectations/uncommitted/data_docs/local_site/index.html\n"
   ]
  },
  {
   "cell_type": "code",
   "execution_count": null,
   "id": "ef6af8e8",
   "metadata": {},
   "outputs": [],
   "source": []
  },
  {
   "cell_type": "code",
   "execution_count": null,
   "id": "4d81a05d",
   "metadata": {},
   "outputs": [],
   "source": []
  },
  {
   "cell_type": "code",
   "execution_count": null,
   "id": "6061077d",
   "metadata": {},
   "outputs": [],
   "source": []
  },
  {
   "cell_type": "code",
   "execution_count": 69,
   "id": "2f0cc900",
   "metadata": {},
   "outputs": [],
   "source": [
    "# NOTE: The following code is only for testing and can be ignored by users.\n",
    "assert isinstance(validator, ge.validator.validator.Validator)\n"
   ]
  },
  {
   "cell_type": "code",
   "execution_count": 70,
   "id": "8dc7b368",
   "metadata": {},
   "outputs": [],
   "source": [
    "assert [ds[\"name\"] for ds in context.list_datasources()] == [\"my_sqlite_datasource\"]\n"
   ]
  },
  {
   "cell_type": "code",
   "execution_count": 71,
   "id": "85fd5979",
   "metadata": {},
   "outputs": [],
   "source": [
    "assert \"T_SALES\" in set(\n",
    "    context.get_available_data_asset_names()[\"my_sqlite_datasource\"][\n",
    "        \"default_inferred_data_connector_name\"\n",
    "    ]\n",
    ")"
   ]
  },
  {
   "cell_type": "code",
   "execution_count": 35,
   "id": "d4529f9e",
   "metadata": {},
   "outputs": [
    {
     "name": "stdout",
     "output_type": "stream",
     "text": [
      "2021-12-11T22:25:02+0530 - WARNING - metric column.aggregate.custom.max.aggregate_fn is being registered with different metric_provider; overwriting metric_provider\n",
      "2021-12-11T22:25:02+0530 - INFO - Multiple declarations of metric column.aggregate.custom.max for engine SqlAlchemyExecutionEngine.\n"
     ]
    }
   ],
   "source": [
    "from great_expectations.execution_engine import (\n",
    "\n",
    "   SqlAlchemyExecutionEngine\n",
    ")\n",
    "from great_expectations.expectations.metrics import (\n",
    "   ColumnAggregateMetricProvider,\n",
    "   column_aggregate_value, column_aggregate_partial,\n",
    ")\n",
    "from great_expectations.expectations.metrics.import_manager import F, sa\n",
    "\n",
    "class ColumnCustomMax(ColumnAggregateMetricProvider):\n",
    "    \"\"\"MetricProvider Class for Custom Aggregate Max MetricProvider\"\"\"\n",
    "\n",
    "    metric_name = \"column.aggregate.custom.max\"\n",
    "\n",
    "\n",
    "\n",
    "    @column_aggregate_partial(engine=SqlAlchemyExecutionEngine)\n",
    "    def _sqlalchemy(cls, column, **kwargs):\n",
    "        \"\"\"SqlAlchemy Max Implementation\"\"\"\n",
    "        return sa.func.max(column)\n"
   ]
  },
  {
   "cell_type": "code",
   "execution_count": 51,
   "id": "24ba4237",
   "metadata": {},
   "outputs": [
    {
     "ename": "IndentationError",
     "evalue": "unindent does not match any outer indentation level (<tokenize>, line 32)",
     "output_type": "error",
     "traceback": [
      "\u001b[1;36m  File \u001b[1;32m\"<tokenize>\"\u001b[1;36m, line \u001b[1;32m32\u001b[0m\n\u001b[1;33m    if \"min_value\" in configuration.kwargs:\u001b[0m\n\u001b[1;37m    ^\u001b[0m\n\u001b[1;31mIndentationError\u001b[0m\u001b[1;31m:\u001b[0m unindent does not match any outer indentation level\n"
     ]
    }
   ],
   "source": []
  },
  {
   "cell_type": "code",
   "execution_count": null,
   "id": "8906e9c0",
   "metadata": {},
   "outputs": [],
   "source": []
  }
 ],
 "metadata": {
  "kernelspec": {
   "display_name": "Python 3 (ipykernel)",
   "language": "python",
   "name": "python3"
  },
  "language_info": {
   "codemirror_mode": {
    "name": "ipython",
    "version": 3
   },
   "file_extension": ".py",
   "mimetype": "text/x-python",
   "name": "python",
   "nbconvert_exporter": "python",
   "pygments_lexer": "ipython3",
   "version": "3.9.7"
  }
 },
 "nbformat": 4,
 "nbformat_minor": 5
}
